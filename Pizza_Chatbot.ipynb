{
  "nbformat": 4,
  "nbformat_minor": 0,
  "metadata": {
    "colab": {
      "provenance": [],
      "authorship_tag": "ABX9TyMCzoFgQ7D2qulPn6WFcHIt",
      "include_colab_link": true
    },
    "kernelspec": {
      "name": "python3",
      "display_name": "Python 3"
    },
    "language_info": {
      "name": "python"
    }
  },
  "cells": [
    {
      "cell_type": "markdown",
      "metadata": {
        "id": "view-in-github",
        "colab_type": "text"
      },
      "source": [
        "<a href=\"https://colab.research.google.com/github/palmmywatch/data_science_bootcamp07/blob/main/Pizza_Chatbot.ipynb\" target=\"_parent\"><img src=\"https://colab.research.google.com/assets/colab-badge.svg\" alt=\"Open In Colab\"/></a>"
      ]
    },
    {
      "cell_type": "markdown",
      "source": [
        "# Pizza chatbot"
      ],
      "metadata": {
        "id": "QQWGjrYBkx1w"
      }
    },
    {
      "cell_type": "code",
      "execution_count": null,
      "metadata": {
        "id": "0XTMx2v8kArd"
      },
      "outputs": [],
      "source": [
        "# def funtion\n",
        "def palmmy_pizza():\n",
        "  divider = '--------------------------------------------------------------'\n",
        "\n",
        "  # hello user\n",
        "  custName = input(\"Hello guys. What is your name? :\")\n",
        "  print(f'Hello {custName}. Welcome to Palmmy Pizza.')\n",
        "  print(divider)\n",
        "\n",
        "  # show menu\n",
        "  print('Select your order to cart')\n",
        "  menuPizza = ('Home & Crab stick',\n",
        "               'Hawaiian',\n",
        "               'Pork Deluxe',\n",
        "               'Veggie',\n",
        "               'Double Pepporoni',\n",
        "               'Bacon & Sausage',\n",
        "               'Tom Yam Goong',\n",
        "               'Bacon & BBQ',\n",
        "               'Prawn Cocktail',\n",
        "               'Magherita',\n",
        "               'Chicken & Pineapple',\n",
        "               'Supper Seafood')\n",
        "  iMenu = 0\n",
        "  for menu in menuPizza:\n",
        "    print(f' - Number {iMenu}: {menu}')\n",
        "    iMenu += 1\n",
        "  \n",
        "  # choose menu to cart\n",
        "  pizzaCart = []\n",
        "  print(divider)\n",
        "  #print('You can press number of order:')\n",
        "  #print(\"If you finish, you can press 'finish'\")\n",
        "  #print(divider)\n",
        "  \n",
        "  # process\n",
        "  while True:\n",
        "    print(\"If you finish, you can press 'finish'\")\n",
        "    menuChoose = input('You can press number of order: ')\n",
        "    \n",
        "    if (menuChoose == 'finish'):\n",
        "      print(divider)\n",
        "      print(f'Thank you {custName}. Your order is {pizzaCart}')\n",
        "      print(divider)\n",
        "      break\n",
        "    try:\n",
        "      pizzaCart.append(menuPizza[int(menuChoose)])\n",
        "      print(divider)\n",
        "      print(f'Your cart: {pizzaCart}')\n",
        "      print(divider)\n",
        "    except IndexError:\n",
        "      print(divider)\n",
        "      print(\"Your order isn't correct. Please press again\")\n",
        "      print(divider)\n",
        "      print(f'Your cart: {pizzaCart}')\n",
        "      print(divider)\n",
        "    except ValueError:\n",
        "      print(divider)\n",
        "      print(\"Your order isn't correct. Please press again\")\n",
        "      print(divider)\n",
        "      print(f'Your cart: {pizzaCart}')\n",
        "      print(divider)\n"
      ]
    },
    {
      "cell_type": "code",
      "source": [
        "# run function\n",
        "palmmy_pizza()"
      ],
      "metadata": {
        "colab": {
          "base_uri": "https://localhost:8080/"
        },
        "id": "Vtk4gTIOnjAH",
        "outputId": "5e068b7b-ffc3-4ebf-9f81-b4689cf62434"
      },
      "execution_count": null,
      "outputs": [
        {
          "output_type": "stream",
          "name": "stdout",
          "text": [
            "Hello guys. What is your name? :Palmmy\n",
            "Hello Palmmy. Welcome to Palmmy Pizza.\n",
            "--------------------------------------------------------------\n",
            "Select your order to cart\n",
            " - Number 0: Home & Crab stick\n",
            " - Number 1: Hawaiian\n",
            " - Number 2: Pork Deluxe\n",
            " - Number 3: Veggie\n",
            " - Number 4: Double Pepporoni\n",
            " - Number 5: Bacon & Sausage\n",
            " - Number 6: Tom Yam Goong\n",
            " - Number 7: Bacon & BBQ\n",
            " - Number 8: Prawn Cocktail\n",
            " - Number 9: Magherita\n",
            " - Number 10: Chicken & Pineapple\n",
            " - Number 11: Supper Seafood\n",
            "--------------------------------------------------------------\n",
            "If you finish, you can press 'finish'\n",
            "You can press number of order: 1\n",
            "--------------------------------------------------------------\n",
            "Your cart: ['Hawaiian']\n",
            "--------------------------------------------------------------\n",
            "If you finish, you can press 'finish'\n",
            "You can press number of order: 5\n",
            "--------------------------------------------------------------\n",
            "Your cart: ['Hawaiian', 'Bacon & Sausage']\n",
            "--------------------------------------------------------------\n",
            "If you finish, you can press 'finish'\n",
            "You can press number of order: 89\n",
            "--------------------------------------------------------------\n",
            "Your order isn't correct. Please press again\n",
            "--------------------------------------------------------------\n",
            "Your cart: ['Hawaiian', 'Bacon & Sausage']\n",
            "--------------------------------------------------------------\n",
            "If you finish, you can press 'finish'\n",
            "You can press number of order: finish\n",
            "--------------------------------------------------------------\n",
            "Thank you Palmmy. Your order is ['Hawaiian', 'Bacon & Sausage']\n",
            "--------------------------------------------------------------\n"
          ]
        }
      ]
    }
  ]
}