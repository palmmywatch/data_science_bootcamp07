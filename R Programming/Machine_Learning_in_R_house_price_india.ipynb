{
  "cells": [
    {
      "cell_type": "markdown",
      "metadata": {
        "id": "view-in-github",
        "colab_type": "text"
      },
      "source": [
        "<a href=\"https://colab.research.google.com/github/palmmywatch/data_science_bootcamp07/blob/main/Machine_Learning_in_R.ipynb\" target=\"_parent\"><img src=\"https://colab.research.google.com/assets/colab-badge.svg\" alt=\"Open In Colab\"/></a>"
      ]
    },
    {
      "cell_type": "markdown",
      "metadata": {
        "id": "m4TQvAClk8cw"
      },
      "source": [
        "# Machine Learning in R\n",
        "House Price India"
      ]
    },
    {
      "cell_type": "markdown",
      "metadata": {
        "id": "fa5r00fzlBiM"
      },
      "source": [
        "Load Library"
      ]
    },
    {
      "cell_type": "code",
      "execution_count": null,
      "metadata": {
        "colab": {
          "base_uri": "https://localhost:8080/"
        },
        "id": "skxi-56SVVx0",
        "outputId": "b812fd6f-4270-44dc-c800-b7b06e272c83"
      },
      "outputs": [
        {
          "output_type": "stream",
          "name": "stderr",
          "text": [
            "Installing package into ‘/usr/local/lib/R/site-library’\n",
            "(as ‘lib’ is unspecified)\n",
            "\n",
            "Installing package into ‘/usr/local/lib/R/site-library’\n",
            "(as ‘lib’ is unspecified)\n",
            "\n",
            "Installing package into ‘/usr/local/lib/R/site-library’\n",
            "(as ‘lib’ is unspecified)\n",
            "\n",
            "also installing the dependencies ‘textshaping’, ‘conflicted’, ‘jsonlite’, ‘ragg’, ‘stringr’\n",
            "\n",
            "\n",
            "Warning message in install.packages(\"tidyverse\"):\n",
            "“installation of package ‘textshaping’ had non-zero exit status”\n",
            "Warning message in install.packages(\"tidyverse\"):\n",
            "“installation of package ‘ragg’ had non-zero exit status”\n",
            "Warning message in install.packages(\"tidyverse\"):\n",
            "“installation of package ‘tidyverse’ had non-zero exit status”\n",
            "Installing package into ‘/usr/local/lib/R/site-library’\n",
            "(as ‘lib’ is unspecified)\n",
            "\n",
            "also installing the dependencies ‘listenv’, ‘parallelly’, ‘future’, ‘globals’, ‘shape’, ‘future.apply’, ‘numDeriv’, ‘progressr’, ‘SQUAREM’, ‘diagram’, ‘lava’, ‘prodlim’, ‘proxy’, ‘iterators’, ‘Rcpp’, ‘clock’, ‘gower’, ‘hardhat’, ‘ipred’, ‘timeDate’, ‘e1071’, ‘foreach’, ‘ModelMetrics’, ‘plyr’, ‘pROC’, ‘recipes’, ‘reshape2’\n",
            "\n",
            "\n",
            "Installing package into ‘/usr/local/lib/R/site-library’\n",
            "(as ‘lib’ is unspecified)\n",
            "\n"
          ]
        }
      ],
      "source": [
        "install.packages(\"readxl\")\n",
        "install.packages(\"dplyr\")\n",
        "install.packages(\"tidyverse\")\n",
        "install.packages(\"caret\")\n",
        "install.packages(\"randomForest\")"
      ]
    },
    {
      "cell_type": "code",
      "execution_count": null,
      "metadata": {
        "colab": {
          "base_uri": "https://localhost:8080/"
        },
        "id": "XxQhXlioksoR",
        "outputId": "81110e06-6405-41a4-c44f-2de8a822433a"
      },
      "outputs": [
        {
          "output_type": "stream",
          "name": "stderr",
          "text": [
            "\n",
            "Attaching package: ‘dplyr’\n",
            "\n",
            "\n",
            "The following objects are masked from ‘package:stats’:\n",
            "\n",
            "    filter, lag\n",
            "\n",
            "\n",
            "The following objects are masked from ‘package:base’:\n",
            "\n",
            "    intersect, setdiff, setequal, union\n",
            "\n",
            "\n",
            "Warning message in system(\"timedatectl\", intern = TRUE):\n",
            "“running command 'timedatectl' had status 1”\n",
            "── \u001b[1mAttaching packages\u001b[22m ─────────────────────────────────────── tidyverse 1.3.1 ──\n",
            "\n",
            "\u001b[32m✔\u001b[39m \u001b[34mggplot2\u001b[39m 3.4.1     \u001b[32m✔\u001b[39m \u001b[34mpurrr  \u001b[39m 1.0.1\n",
            "\u001b[32m✔\u001b[39m \u001b[34mtibble \u001b[39m 3.2.1     \u001b[32m✔\u001b[39m \u001b[34mstringr\u001b[39m 1.5.0\n",
            "\u001b[32m✔\u001b[39m \u001b[34mtidyr  \u001b[39m 1.3.0     \u001b[32m✔\u001b[39m \u001b[34mforcats\u001b[39m 1.0.0\n",
            "\u001b[32m✔\u001b[39m \u001b[34mreadr  \u001b[39m 2.1.4     \n",
            "\n",
            "── \u001b[1mConflicts\u001b[22m ────────────────────────────────────────── tidyverse_conflicts() ──\n",
            "\u001b[31m✖\u001b[39m \u001b[34mdplyr\u001b[39m::\u001b[32mfilter()\u001b[39m masks \u001b[34mstats\u001b[39m::filter()\n",
            "\u001b[31m✖\u001b[39m \u001b[34mdplyr\u001b[39m::\u001b[32mlag()\u001b[39m    masks \u001b[34mstats\u001b[39m::lag()\n",
            "\n",
            "Loading required package: lattice\n",
            "\n",
            "\n",
            "Attaching package: ‘caret’\n",
            "\n",
            "\n",
            "The following object is masked from ‘package:purrr’:\n",
            "\n",
            "    lift\n",
            "\n",
            "\n",
            "randomForest 4.7-1.1\n",
            "\n",
            "Type rfNews() to see new features/changes/bug fixes.\n",
            "\n",
            "\n",
            "Attaching package: ‘randomForest’\n",
            "\n",
            "\n",
            "The following object is masked from ‘package:ggplot2’:\n",
            "\n",
            "    margin\n",
            "\n",
            "\n",
            "The following object is masked from ‘package:dplyr’:\n",
            "\n",
            "    combine\n",
            "\n",
            "\n"
          ]
        }
      ],
      "source": [
        "library(readxl)\n",
        "library(dplyr)\n",
        "library(tidyverse)\n",
        "library(caret)\n",
        "library(randomForest)"
      ]
    },
    {
      "cell_type": "markdown",
      "metadata": {
        "id": "tRiM9t3a1fGl"
      },
      "source": [
        "Read Excel and Preview Data"
      ]
    },
    {
      "cell_type": "code",
      "execution_count": null,
      "metadata": {
        "id": "7yfOtRjE0-kv"
      },
      "outputs": [],
      "source": [
        "# read excel\n",
        "house_price_india <- read_excel(\"House Price India.xlsx\")"
      ]
    },
    {
      "cell_type": "code",
      "execution_count": null,
      "metadata": {
        "id": "ARuZJfK43bPm",
        "colab": {
          "base_uri": "https://localhost:8080/"
        },
        "outputId": "fd4f47b5-cf6d-4347-cce6-3638a4e29338"
      },
      "outputs": [
        {
          "output_type": "stream",
          "name": "stdout",
          "text": [
            "Rows: 14,620\n",
            "Columns: 23\n",
            "$ id                                      \u001b[3m\u001b[90m<dbl>\u001b[39m\u001b[23m 6762810145, 6762810635, 676281…\n",
            "$ Date                                    \u001b[3m\u001b[90m<dbl>\u001b[39m\u001b[23m 42491, 42491, 42491, 42491, 42…\n",
            "$ `number of bedrooms`                    \u001b[3m\u001b[90m<dbl>\u001b[39m\u001b[23m 5, 4, 5, 4, 3, 3, 5, 3, 3, 4, …\n",
            "$ `number of bathrooms`                   \u001b[3m\u001b[90m<dbl>\u001b[39m\u001b[23m 2.50, 2.50, 2.75, 2.50, 2.00, …\n",
            "$ `living area`                           \u001b[3m\u001b[90m<dbl>\u001b[39m\u001b[23m 3650, 2920, 2910, 3310, 2710, …\n",
            "$ `lot area`                              \u001b[3m\u001b[90m<dbl>\u001b[39m\u001b[23m 9050, 4000, 9480, 42998, 4500,…\n",
            "$ `number of floors`                      \u001b[3m\u001b[90m<dbl>\u001b[39m\u001b[23m 2.0, 1.5, 1.5, 2.0, 1.5, 1.0, …\n",
            "$ `waterfront present`                    \u001b[3m\u001b[90m<dbl>\u001b[39m\u001b[23m 0, 0, 0, 0, 0, 0, 0, 0, 0, 0, …\n",
            "$ `number of views`                       \u001b[3m\u001b[90m<dbl>\u001b[39m\u001b[23m 4, 0, 0, 0, 0, 0, 2, 0, 2, 0, …\n",
            "$ `condition of the house`                \u001b[3m\u001b[90m<dbl>\u001b[39m\u001b[23m 5, 5, 3, 3, 4, 4, 3, 5, 4, 5, …\n",
            "$ `grade of the house`                    \u001b[3m\u001b[90m<dbl>\u001b[39m\u001b[23m 10, 8, 8, 9, 8, 9, 10, 8, 8, 7…\n",
            "$ `Area of the house(excluding basement)` \u001b[3m\u001b[90m<dbl>\u001b[39m\u001b[23m 3370, 1910, 2910, 3310, 1880, …\n",
            "$ `Area of the basement`                  \u001b[3m\u001b[90m<dbl>\u001b[39m\u001b[23m 280, 1010, 0, 0, 830, 900, 0, …\n",
            "$ `Built Year`                            \u001b[3m\u001b[90m<dbl>\u001b[39m\u001b[23m 1921, 1909, 1939, 2001, 1929, …\n",
            "$ `Renovation Year`                       \u001b[3m\u001b[90m<dbl>\u001b[39m\u001b[23m 0, 0, 0, 0, 0, 0, 0, 0, 0, 0, …\n",
            "$ `Postal Code`                           \u001b[3m\u001b[90m<dbl>\u001b[39m\u001b[23m 122003, 122004, 122004, 122005…\n",
            "$ Lattitude                               \u001b[3m\u001b[90m<dbl>\u001b[39m\u001b[23m 52.8645, 52.8878, 52.8852, 52.…\n",
            "$ Longitude                               \u001b[3m\u001b[90m<dbl>\u001b[39m\u001b[23m -114.557, -114.470, -114.468, …\n",
            "$ living_area_renov                       \u001b[3m\u001b[90m<dbl>\u001b[39m\u001b[23m 2880, 2470, 2940, 3350, 2060, …\n",
            "$ lot_area_renov                          \u001b[3m\u001b[90m<dbl>\u001b[39m\u001b[23m 5400, 4000, 6600, 42847, 4500,…\n",
            "$ `Number of schools nearby`              \u001b[3m\u001b[90m<dbl>\u001b[39m\u001b[23m 2, 2, 1, 3, 1, 1, 3, 3, 1, 2, …\n",
            "$ `Distance from the airport`             \u001b[3m\u001b[90m<dbl>\u001b[39m\u001b[23m 58, 51, 53, 76, 51, 67, 72, 71…\n",
            "$ Price                                   \u001b[3m\u001b[90m<dbl>\u001b[39m\u001b[23m 2380000, 1400000, 1200000, 838…\n"
          ]
        }
      ],
      "source": [
        "# review datasets\n",
        "house_price_india %>% \n",
        "  glimpse()"
      ]
    },
    {
      "cell_type": "markdown",
      "metadata": {
        "id": "55glqVmy3TFm"
      },
      "source": [
        "Select Features"
      ]
    },
    {
      "cell_type": "code",
      "execution_count": null,
      "metadata": {
        "id": "kmdeXkTf3QxS",
        "colab": {
          "base_uri": "https://localhost:8080/",
          "height": 411
        },
        "outputId": "51ed7064-5042-4cdf-a179-ee9b1e4b45ac"
      },
      "outputs": [
        {
          "output_type": "display_data",
          "data": {
            "text/html": [
              "<table class=\"dataframe\">\n",
              "<caption>A tibble: 10 × 10</caption>\n",
              "<thead>\n",
              "\t<tr><th scope=col>bed</th><th scope=col>bath</th><th scope=col>living</th><th scope=col>area</th><th scope=col>floors</th><th scope=col>waterfront</th><th scope=col>grade</th><th scope=col>school</th><th scope=col>airport</th><th scope=col>price</th></tr>\n",
              "\t<tr><th scope=col>&lt;dbl&gt;</th><th scope=col>&lt;dbl&gt;</th><th scope=col>&lt;dbl&gt;</th><th scope=col>&lt;dbl&gt;</th><th scope=col>&lt;dbl&gt;</th><th scope=col>&lt;dbl&gt;</th><th scope=col>&lt;dbl&gt;</th><th scope=col>&lt;dbl&gt;</th><th scope=col>&lt;dbl&gt;</th><th scope=col>&lt;dbl&gt;</th></tr>\n",
              "</thead>\n",
              "<tbody>\n",
              "\t<tr><td>5</td><td>2.50</td><td>3650</td><td> 9050</td><td>2.0</td><td>0</td><td>10</td><td>2</td><td>58</td><td>2380000</td></tr>\n",
              "\t<tr><td>4</td><td>2.50</td><td>2920</td><td> 4000</td><td>1.5</td><td>0</td><td> 8</td><td>2</td><td>51</td><td>1400000</td></tr>\n",
              "\t<tr><td>5</td><td>2.75</td><td>2910</td><td> 9480</td><td>1.5</td><td>0</td><td> 8</td><td>1</td><td>53</td><td>1200000</td></tr>\n",
              "\t<tr><td>4</td><td>2.50</td><td>3310</td><td>42998</td><td>2.0</td><td>0</td><td> 9</td><td>3</td><td>76</td><td> 838000</td></tr>\n",
              "\t<tr><td>3</td><td>2.00</td><td>2710</td><td> 4500</td><td>1.5</td><td>0</td><td> 8</td><td>1</td><td>51</td><td> 805000</td></tr>\n",
              "\t<tr><td>3</td><td>2.50</td><td>2600</td><td> 4750</td><td>1.0</td><td>0</td><td> 9</td><td>1</td><td>67</td><td> 790000</td></tr>\n",
              "\t<tr><td>5</td><td>3.25</td><td>3660</td><td>11995</td><td>2.0</td><td>0</td><td>10</td><td>3</td><td>72</td><td> 785000</td></tr>\n",
              "\t<tr><td>3</td><td>1.75</td><td>2240</td><td>10578</td><td>2.0</td><td>0</td><td> 8</td><td>3</td><td>71</td><td> 750000</td></tr>\n",
              "\t<tr><td>3</td><td>2.50</td><td>2390</td><td> 6550</td><td>1.0</td><td>0</td><td> 8</td><td>1</td><td>73</td><td> 750000</td></tr>\n",
              "\t<tr><td>4</td><td>2.25</td><td>2200</td><td>11250</td><td>1.5</td><td>0</td><td> 7</td><td>2</td><td>53</td><td> 698000</td></tr>\n",
              "</tbody>\n",
              "</table>\n"
            ],
            "text/markdown": "\nA tibble: 10 × 10\n\n| bed &lt;dbl&gt; | bath &lt;dbl&gt; | living &lt;dbl&gt; | area &lt;dbl&gt; | floors &lt;dbl&gt; | waterfront &lt;dbl&gt; | grade &lt;dbl&gt; | school &lt;dbl&gt; | airport &lt;dbl&gt; | price &lt;dbl&gt; |\n|---|---|---|---|---|---|---|---|---|---|\n| 5 | 2.50 | 3650 |  9050 | 2.0 | 0 | 10 | 2 | 58 | 2380000 |\n| 4 | 2.50 | 2920 |  4000 | 1.5 | 0 |  8 | 2 | 51 | 1400000 |\n| 5 | 2.75 | 2910 |  9480 | 1.5 | 0 |  8 | 1 | 53 | 1200000 |\n| 4 | 2.50 | 3310 | 42998 | 2.0 | 0 |  9 | 3 | 76 |  838000 |\n| 3 | 2.00 | 2710 |  4500 | 1.5 | 0 |  8 | 1 | 51 |  805000 |\n| 3 | 2.50 | 2600 |  4750 | 1.0 | 0 |  9 | 1 | 67 |  790000 |\n| 5 | 3.25 | 3660 | 11995 | 2.0 | 0 | 10 | 3 | 72 |  785000 |\n| 3 | 1.75 | 2240 | 10578 | 2.0 | 0 |  8 | 3 | 71 |  750000 |\n| 3 | 2.50 | 2390 |  6550 | 1.0 | 0 |  8 | 1 | 73 |  750000 |\n| 4 | 2.25 | 2200 | 11250 | 1.5 | 0 |  7 | 2 | 53 |  698000 |\n\n",
            "text/latex": "A tibble: 10 × 10\n\\begin{tabular}{llllllllll}\n bed & bath & living & area & floors & waterfront & grade & school & airport & price\\\\\n <dbl> & <dbl> & <dbl> & <dbl> & <dbl> & <dbl> & <dbl> & <dbl> & <dbl> & <dbl>\\\\\n\\hline\n\t 5 & 2.50 & 3650 &  9050 & 2.0 & 0 & 10 & 2 & 58 & 2380000\\\\\n\t 4 & 2.50 & 2920 &  4000 & 1.5 & 0 &  8 & 2 & 51 & 1400000\\\\\n\t 5 & 2.75 & 2910 &  9480 & 1.5 & 0 &  8 & 1 & 53 & 1200000\\\\\n\t 4 & 2.50 & 3310 & 42998 & 2.0 & 0 &  9 & 3 & 76 &  838000\\\\\n\t 3 & 2.00 & 2710 &  4500 & 1.5 & 0 &  8 & 1 & 51 &  805000\\\\\n\t 3 & 2.50 & 2600 &  4750 & 1.0 & 0 &  9 & 1 & 67 &  790000\\\\\n\t 5 & 3.25 & 3660 & 11995 & 2.0 & 0 & 10 & 3 & 72 &  785000\\\\\n\t 3 & 1.75 & 2240 & 10578 & 2.0 & 0 &  8 & 3 & 71 &  750000\\\\\n\t 3 & 2.50 & 2390 &  6550 & 1.0 & 0 &  8 & 1 & 73 &  750000\\\\\n\t 4 & 2.25 & 2200 & 11250 & 1.5 & 0 &  7 & 2 & 53 &  698000\\\\\n\\end{tabular}\n",
            "text/plain": [
              "   bed bath living area  floors waterfront grade school airport price  \n",
              "1  5   2.50 3650    9050 2.0    0          10    2      58      2380000\n",
              "2  4   2.50 2920    4000 1.5    0           8    2      51      1400000\n",
              "3  5   2.75 2910    9480 1.5    0           8    1      53      1200000\n",
              "4  4   2.50 3310   42998 2.0    0           9    3      76       838000\n",
              "5  3   2.00 2710    4500 1.5    0           8    1      51       805000\n",
              "6  3   2.50 2600    4750 1.0    0           9    1      67       790000\n",
              "7  5   3.25 3660   11995 2.0    0          10    3      72       785000\n",
              "8  3   1.75 2240   10578 2.0    0           8    3      71       750000\n",
              "9  3   2.50 2390    6550 1.0    0           8    1      73       750000\n",
              "10 4   2.25 2200   11250 1.5    0           7    2      53       698000"
            ]
          },
          "metadata": {}
        }
      ],
      "source": [
        "# select column\n",
        "house_india <- house_price_india %>% \n",
        "  select(bed = `number of bedrooms`,\n",
        "         bath = `number of bathrooms`,\n",
        "         living = `living area`,\n",
        "         area = `lot area`,\n",
        "         floors = `number of floors`,\n",
        "         waterfront = `waterfront present`,\n",
        "         grade = `grade of the house`,\n",
        "         school = `Number of schools nearby`,\n",
        "         airport = `Distance from the airport`,\n",
        "         price = Price)\n",
        "\n",
        "house_india %>%\n",
        "  head(10)"
      ]
    },
    {
      "cell_type": "markdown",
      "metadata": {
        "id": "3aMJ02nk4H-e"
      },
      "source": [
        "Split Data"
      ]
    },
    {
      "cell_type": "code",
      "execution_count": null,
      "metadata": {
        "id": "mR2996qL4Gwx"
      },
      "outputs": [],
      "source": [
        "# function split data\n",
        "spData <- function(dataset, trainRatio) {\n",
        "  # random sampling\n",
        "  set.seed(11)\n",
        "  n <- nrow(dataset)\n",
        "  id <-  sample(1:n, size = trainRatio * n)\n",
        "  \n",
        "  # split\n",
        "  trainData <- dataset[id, ]\n",
        "  testData <- dataset[-id, ]\n",
        "  \n",
        "  # return data\n",
        "  list(train = trainData,\n",
        "       test  = testData)\n",
        "}"
      ]
    },
    {
      "cell_type": "code",
      "execution_count": null,
      "metadata": {
        "id": "PQ-0h1ry4SXn"
      },
      "outputs": [],
      "source": [
        "# split data\n",
        "set.seed(11)\n",
        "split_data <- spData(house_india, 0.9)\n",
        "train_data <- split_data$train \n",
        "test_data <- split_data$test"
      ]
    },
    {
      "cell_type": "markdown",
      "metadata": {
        "id": "aJuSKbez40ww"
      },
      "source": [
        "Train Model"
      ]
    },
    {
      "cell_type": "code",
      "execution_count": null,
      "metadata": {
        "id": "0lYhBSw042mS"
      },
      "outputs": [],
      "source": [
        "# k-fold = 5\n",
        "ctrl <- trainControl(\n",
        "  method = \"cv\",\n",
        "  number = 5,\n",
        "  verboseIter = TRUE\n",
        ")"
      ]
    },
    {
      "cell_type": "code",
      "execution_count": null,
      "metadata": {
        "id": "XuDFHgQk6FHp",
        "colab": {
          "base_uri": "https://localhost:8080/"
        },
        "outputId": "294197e7-ef9e-4bea-9f3f-95bbeb759fcc"
      },
      "outputs": [
        {
          "output_type": "stream",
          "name": "stdout",
          "text": [
            "+ Fold1: intercept=TRUE \n",
            "- Fold1: intercept=TRUE \n",
            "+ Fold2: intercept=TRUE \n",
            "- Fold2: intercept=TRUE \n",
            "+ Fold3: intercept=TRUE \n",
            "- Fold3: intercept=TRUE \n",
            "+ Fold4: intercept=TRUE \n",
            "- Fold4: intercept=TRUE \n",
            "+ Fold5: intercept=TRUE \n",
            "- Fold5: intercept=TRUE \n",
            "Aggregating results\n",
            "Fitting final model on full training set\n"
          ]
        }
      ],
      "source": [
        "# linear model\n",
        "lm_model <- train(log(price) ~ bed + bath + living + area + floors + \n",
        "                               waterfront + grade + school + airport,\n",
        "            data = train_data,\n",
        "            method = \"lm\",\n",
        "            trControl = ctrl)"
      ]
    },
    {
      "cell_type": "code",
      "source": [
        "lm_model"
      ],
      "metadata": {
        "colab": {
          "base_uri": "https://localhost:8080/",
          "height": 260
        },
        "id": "cF_ZhvBowRlQ",
        "outputId": "8514ca4f-bf76-4f6a-a210-f09ea311450f"
      },
      "execution_count": null,
      "outputs": [
        {
          "output_type": "display_data",
          "data": {
            "text/plain": [
              "Linear Regression \n",
              "\n",
              "13158 samples\n",
              "    9 predictor\n",
              "\n",
              "No pre-processing\n",
              "Resampling: Cross-Validated (5 fold) \n",
              "Summary of sample sizes: 10527, 10525, 10527, 10528, 10525 \n",
              "Resampling results:\n",
              "\n",
              "  RMSE       Rsquared   MAE      \n",
              "  0.3406481  0.5818774  0.2750971\n",
              "\n",
              "Tuning parameter 'intercept' was held constant at a value of TRUE"
            ]
          },
          "metadata": {}
        }
      ]
    },
    {
      "cell_type": "code",
      "execution_count": null,
      "metadata": {
        "id": "lYq_bJK6DChR",
        "colab": {
          "base_uri": "https://localhost:8080/"
        },
        "outputId": "b1028265-fde9-48d2-e02c-ba97dae68538"
      },
      "outputs": [
        {
          "output_type": "stream",
          "name": "stdout",
          "text": [
            "+ Fold1: mtry=2 \n",
            "- Fold1: mtry=2 \n",
            "+ Fold1: mtry=5 \n",
            "- Fold1: mtry=5 \n",
            "+ Fold1: mtry=9 \n",
            "- Fold1: mtry=9 \n",
            "+ Fold2: mtry=2 \n",
            "- Fold2: mtry=2 \n",
            "+ Fold2: mtry=5 \n",
            "- Fold2: mtry=5 \n",
            "+ Fold2: mtry=9 \n",
            "- Fold2: mtry=9 \n",
            "+ Fold3: mtry=2 \n",
            "- Fold3: mtry=2 \n",
            "+ Fold3: mtry=5 \n",
            "- Fold3: mtry=5 \n",
            "+ Fold3: mtry=9 \n",
            "- Fold3: mtry=9 \n",
            "+ Fold4: mtry=2 \n",
            "- Fold4: mtry=2 \n",
            "+ Fold4: mtry=5 \n",
            "- Fold4: mtry=5 \n",
            "+ Fold4: mtry=9 \n",
            "- Fold4: mtry=9 \n",
            "+ Fold5: mtry=2 \n",
            "- Fold5: mtry=2 \n",
            "+ Fold5: mtry=5 \n",
            "- Fold5: mtry=5 \n",
            "+ Fold5: mtry=9 \n",
            "- Fold5: mtry=9 \n",
            "Aggregating results\n",
            "Selecting tuning parameters\n",
            "Fitting mtry = 2 on full training set\n"
          ]
        }
      ],
      "source": [
        "# random forest\n",
        "rf_model <- train(log(price) ~ bed + bath + living + area + floors + \n",
        "                    waterfront + grade + school + airport,\n",
        "                  data = train_data,\n",
        "                  method = \"rf\",\n",
        "                  trControl = ctrl)"
      ]
    },
    {
      "cell_type": "code",
      "source": [
        "rf_model"
      ],
      "metadata": {
        "colab": {
          "base_uri": "https://localhost:8080/",
          "height": 312
        },
        "id": "3Hc4suVXwU_F",
        "outputId": "c4fa525f-02ff-4903-b56f-3a52312336bc"
      },
      "execution_count": null,
      "outputs": [
        {
          "output_type": "display_data",
          "data": {
            "text/plain": [
              "Random Forest \n",
              "\n",
              "13158 samples\n",
              "    9 predictor\n",
              "\n",
              "No pre-processing\n",
              "Resampling: Cross-Validated (5 fold) \n",
              "Summary of sample sizes: 10526, 10526, 10527, 10526, 10527 \n",
              "Resampling results across tuning parameters:\n",
              "\n",
              "  mtry  RMSE       Rsquared   MAE      \n",
              "  2     0.3153199  0.6435751  0.2509028\n",
              "  5     0.3176214  0.6367633  0.2509350\n",
              "  9     0.3202903  0.6310204  0.2524052\n",
              "\n",
              "RMSE was used to select the optimal model using the smallest value.\n",
              "The final value used for the model was mtry = 2."
            ]
          },
          "metadata": {}
        }
      ]
    },
    {
      "cell_type": "code",
      "execution_count": null,
      "metadata": {
        "id": "ZQngUG1_DFD8",
        "colab": {
          "base_uri": "https://localhost:8080/"
        },
        "outputId": "5a3efb17-ebe3-4f18-e35e-c1478c6b16f0"
      },
      "outputs": [
        {
          "output_type": "stream",
          "name": "stdout",
          "text": [
            "+ Fold1: k=5 \n",
            "- Fold1: k=5 \n",
            "+ Fold1: k=7 \n",
            "- Fold1: k=7 \n",
            "+ Fold1: k=9 \n",
            "- Fold1: k=9 \n",
            "+ Fold2: k=5 \n",
            "- Fold2: k=5 \n",
            "+ Fold2: k=7 \n",
            "- Fold2: k=7 \n",
            "+ Fold2: k=9 \n",
            "- Fold2: k=9 \n",
            "+ Fold3: k=5 \n",
            "- Fold3: k=5 \n",
            "+ Fold3: k=7 \n",
            "- Fold3: k=7 \n",
            "+ Fold3: k=9 \n",
            "- Fold3: k=9 \n",
            "+ Fold4: k=5 \n",
            "- Fold4: k=5 \n",
            "+ Fold4: k=7 \n",
            "- Fold4: k=7 \n",
            "+ Fold4: k=9 \n",
            "- Fold4: k=9 \n",
            "+ Fold5: k=5 \n",
            "- Fold5: k=5 \n",
            "+ Fold5: k=7 \n",
            "- Fold5: k=7 \n",
            "+ Fold5: k=9 \n",
            "- Fold5: k=9 \n",
            "Aggregating results\n",
            "Selecting tuning parameters\n",
            "Fitting k = 9 on full training set\n"
          ]
        }
      ],
      "source": [
        "# KNN\n",
        "knn_model <- train(log(price) ~ bed + bath + living + area + floors + \n",
        "                    waterfront + grade + school + airport,\n",
        "                  data = train_data,\n",
        "                  method = \"knn\",\n",
        "                  trControl = ctrl)"
      ]
    },
    {
      "cell_type": "code",
      "source": [
        "knn_model"
      ],
      "metadata": {
        "colab": {
          "base_uri": "https://localhost:8080/",
          "height": 312
        },
        "id": "kNcl3M3owMVO",
        "outputId": "7ab3d580-4974-4de3-a348-24c1e502771d"
      },
      "execution_count": null,
      "outputs": [
        {
          "output_type": "display_data",
          "data": {
            "text/plain": [
              "k-Nearest Neighbors \n",
              "\n",
              "13158 samples\n",
              "    9 predictor\n",
              "\n",
              "No pre-processing\n",
              "Resampling: Cross-Validated (5 fold) \n",
              "Summary of sample sizes: 10528, 10527, 10526, 10525, 10526 \n",
              "Resampling results across tuning parameters:\n",
              "\n",
              "  k  RMSE       Rsquared   MAE      \n",
              "  5  0.3909401  0.4581381  0.3094861\n",
              "  7  0.3825116  0.4763101  0.3036944\n",
              "  9  0.3787771  0.4844797  0.3008964\n",
              "\n",
              "RMSE was used to select the optimal model using the smallest value.\n",
              "The final value used for the model was k = 9."
            ]
          },
          "metadata": {}
        }
      ]
    },
    {
      "cell_type": "markdown",
      "metadata": {
        "id": "Hzj33NjH7JIi"
      },
      "source": [
        "Normolization"
      ]
    },
    {
      "cell_type": "code",
      "execution_count": null,
      "metadata": {
        "id": "qo_gzqnB6UmC"
      },
      "outputs": [],
      "source": [
        "test_data$price_norm <- log(test_data$price)"
      ]
    },
    {
      "cell_type": "markdown",
      "metadata": {
        "id": "xMAe8Ap37Tzb"
      },
      "source": [
        "Score Model"
      ]
    },
    {
      "cell_type": "code",
      "execution_count": null,
      "metadata": {
        "id": "pjXv01kv7Yjr"
      },
      "outputs": [],
      "source": [
        "# linear\n",
        "p_lm <- predict(lm_model, newdata = test_data)\n",
        "\n",
        "# random forest\n",
        "p_rf <- predict(rf_model, newdata = test_data)\n",
        "\n",
        "# knn\n",
        "p_knn <- predict(knn_model, newdata = test_data)"
      ]
    },
    {
      "cell_type": "markdown",
      "metadata": {
        "id": "8Q7xgBFR7hg5"
      },
      "source": [
        "Evaluate Model"
      ]
    },
    {
      "cell_type": "code",
      "execution_count": null,
      "metadata": {
        "id": "tMjjlOzo7ixW"
      },
      "outputs": [],
      "source": [
        "# metric function\n",
        "eMetric <- function(actual, prediction) {\n",
        "  # mean absolute error\n",
        "  abs_error <- abs(actual - prediction)\n",
        "  mae_metric <- mean(abs_error)\n",
        "  \n",
        "  # mse\n",
        "  sq_error <- (actual - prediction)**2\n",
        "  mse_metric <- mean(sq_error)\n",
        "  \n",
        "  # rmse\n",
        "  rmse_metric <- sqrt(mse_metric)\n",
        "  \n",
        "  # return\n",
        "  list(mae_metric,\n",
        "       mse_metric,\n",
        "       rmse_metric)\n",
        "}"
      ]
    },
    {
      "cell_type": "code",
      "execution_count": null,
      "metadata": {
        "id": "EB0I8p2L7rFb"
      },
      "outputs": [],
      "source": [
        "# linear\n",
        "e_lm <- eMetric(test_data$price_norm, p_lm)\n",
        "\n",
        "# random forest\n",
        "e_rf <- eMetric(test_data$price_norm, p_rf)\n",
        "\n",
        "# knn\n",
        "e_knn <- eMetric(test_data$price_norm, p_knn)"
      ]
    },
    {
      "cell_type": "markdown",
      "metadata": {
        "id": "5ZOFN5Pw72fI"
      },
      "source": [
        "Result"
      ]
    },
    {
      "cell_type": "code",
      "execution_count": null,
      "metadata": {
        "id": "ZSqJ0Lsn73GE"
      },
      "outputs": [],
      "source": [
        "lm_result <- function() {\n",
        "  cat(\"MAE:\", e_lm[[1]],\n",
        "      \"\\nMSE:\", e_lm[[2]],\n",
        "      \"\\nRMSE:\", e_lm[[3]])\n",
        "}\n",
        "\n",
        "rf_result <- function() {\n",
        "  cat(\"MAE:\", e_rf[[1]],\n",
        "      \"\\nMSE:\", e_rf[[2]],\n",
        "      \"\\nRMSE:\", e_rf[[3]])\n",
        "}\n",
        "\n",
        "knn_result <- function() {\n",
        "  cat(\"MAE:\", e_knn[[1]],\n",
        "      \"\\nMSE:\", e_knn[[2]],\n",
        "      \"\\nRMSE:\", e_knn[[3]])\n",
        "}"
      ]
    },
    {
      "cell_type": "code",
      "source": [
        "lm_result()"
      ],
      "metadata": {
        "colab": {
          "base_uri": "https://localhost:8080/"
        },
        "id": "pSAvxk_VwdP6",
        "outputId": "17ab7321-fc7d-4a35-c670-eda4f8969c7f"
      },
      "execution_count": null,
      "outputs": [
        {
          "output_type": "stream",
          "name": "stdout",
          "text": [
            "MAE: 0.2674759 \n",
            "MSE: 0.1138669 \n",
            "RMSE: 0.3374417"
          ]
        }
      ]
    },
    {
      "cell_type": "code",
      "source": [
        "rf_result()"
      ],
      "metadata": {
        "colab": {
          "base_uri": "https://localhost:8080/"
        },
        "id": "T42MzIgBwtvs",
        "outputId": "861c0bee-b227-41a3-d0bf-8c0175eb6e4a"
      },
      "execution_count": null,
      "outputs": [
        {
          "output_type": "stream",
          "name": "stdout",
          "text": [
            "MAE: 0.2442743 \n",
            "MSE: 0.09582324 \n",
            "RMSE: 0.3095533"
          ]
        }
      ]
    },
    {
      "cell_type": "code",
      "source": [
        "knn_result()"
      ],
      "metadata": {
        "colab": {
          "base_uri": "https://localhost:8080/"
        },
        "id": "0jsgOb8Oww6Z",
        "outputId": "342b013f-540d-476e-d4d8-1134600f5719"
      },
      "execution_count": null,
      "outputs": [
        {
          "output_type": "stream",
          "name": "stdout",
          "text": [
            "MAE: 0.3004687 \n",
            "MSE: 0.1424063 \n",
            "RMSE: 0.3773676"
          ]
        }
      ]
    }
  ],
  "metadata": {
    "colab": {
      "provenance": [],
      "authorship_tag": "ABX9TyM4+qjGDmA6WYvlzU6yXL2x",
      "include_colab_link": true
    },
    "gpuClass": "standard",
    "kernelspec": {
      "display_name": "R",
      "name": "ir"
    },
    "language_info": {
      "name": "R"
    }
  },
  "nbformat": 4,
  "nbformat_minor": 0
}
