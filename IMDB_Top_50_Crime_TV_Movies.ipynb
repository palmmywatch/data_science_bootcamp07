{
  "nbformat": 4,
  "nbformat_minor": 0,
  "metadata": {
    "colab": {
      "provenance": [],
      "authorship_tag": "ABX9TyM5K1o8oX8wH9XSYf0CnQlf",
      "include_colab_link": true
    },
    "kernelspec": {
      "name": "ir",
      "display_name": "R"
    },
    "language_info": {
      "name": "R"
    }
  },
  "cells": [
    {
      "cell_type": "markdown",
      "metadata": {
        "id": "view-in-github",
        "colab_type": "text"
      },
      "source": [
        "<a href=\"https://colab.research.google.com/github/palmmywatch/data_science_bootcamp07/blob/main/IMDB_Top_50_Crime_TV_Movies.ipynb\" target=\"_parent\"><img src=\"https://colab.research.google.com/assets/colab-badge.svg\" alt=\"Open In Colab\"/></a>"
      ]
    },
    {
      "cell_type": "markdown",
      "source": [
        "# IMDB Top 50 Crime TV Movies"
      ],
      "metadata": {
        "id": "7fgQe8soRcCP"
      }
    },
    {
      "cell_type": "markdown",
      "source": [
        "![IMDB_Logo_2016.svg](data:image/svg+xml;base64,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)"
      ],
      "metadata": {
        "id": "8pvaGnrVS8cj"
      }
    },
    {
      "cell_type": "markdown",
      "source": [
        "## Load Library"
      ],
      "metadata": {
        "id": "ukbkLBoQRpmd"
      }
    },
    {
      "cell_type": "code",
      "execution_count": null,
      "metadata": {
        "colab": {
          "base_uri": "https://localhost:8080/"
        },
        "id": "nyf-WU7mRZxM",
        "outputId": "1c971cf9-d8ad-49b6-aa04-9e90bcd8af96"
      },
      "outputs": [
        {
          "output_type": "stream",
          "name": "stderr",
          "text": [
            "Warning message in system(\"timedatectl\", intern = TRUE):\n",
            "“running command 'timedatectl' had status 1”\n",
            "── \u001b[1mAttaching packages\u001b[22m ─────────────────────────────────────── tidyverse 1.3.1 ──\n",
            "\n",
            "\u001b[32m✔\u001b[39m \u001b[34mggplot2\u001b[39m 3.4.1     \u001b[32m✔\u001b[39m \u001b[34mpurrr  \u001b[39m 1.0.1\n",
            "\u001b[32m✔\u001b[39m \u001b[34mtibble \u001b[39m 3.2.1     \u001b[32m✔\u001b[39m \u001b[34mdplyr  \u001b[39m 1.1.1\n",
            "\u001b[32m✔\u001b[39m \u001b[34mtidyr  \u001b[39m 1.3.0     \u001b[32m✔\u001b[39m \u001b[34mstringr\u001b[39m 1.4.1\n",
            "\u001b[32m✔\u001b[39m \u001b[34mreadr  \u001b[39m 2.1.4     \u001b[32m✔\u001b[39m \u001b[34mforcats\u001b[39m 1.0.0\n",
            "\n",
            "── \u001b[1mConflicts\u001b[22m ────────────────────────────────────────── tidyverse_conflicts() ──\n",
            "\u001b[31m✖\u001b[39m \u001b[34mdplyr\u001b[39m::\u001b[32mfilter()\u001b[39m         masks \u001b[34mstats\u001b[39m::filter()\n",
            "\u001b[31m✖\u001b[39m \u001b[34mreadr\u001b[39m::\u001b[32mguess_encoding()\u001b[39m masks \u001b[34mrvest\u001b[39m::guess_encoding()\n",
            "\u001b[31m✖\u001b[39m \u001b[34mdplyr\u001b[39m::\u001b[32mlag()\u001b[39m            masks \u001b[34mstats\u001b[39m::lag()\n",
            "\n"
          ]
        }
      ],
      "source": [
        "# load library\n",
        "library(rvest)\n",
        "library(tidyverse)"
      ]
    },
    {
      "cell_type": "markdown",
      "source": [
        "## Load Data"
      ],
      "metadata": {
        "id": "CQS0si0QRxRr"
      }
    },
    {
      "cell_type": "code",
      "source": [
        "# load data\n",
        "url <- \"https://www.imdb.com/search/title/?genres=crime&explore=title_type,genres&title_type=tvMovie&ref_=adv_explore_rhs\""
      ],
      "metadata": {
        "id": "r732hKHKRuf5"
      },
      "execution_count": null,
      "outputs": []
    },
    {
      "cell_type": "markdown",
      "source": [
        "## Data Frame"
      ],
      "metadata": {
        "id": "mfN6nmSbR3bS"
      }
    },
    {
      "cell_type": "code",
      "source": [
        "# movie name\n",
        "movie_name <- url %>% \n",
        "  read_html() %>% \n",
        "  html_elements(\"h3.lister-item-header\") %>% \n",
        "  html_text2()\n",
        "\n",
        "# score\n",
        "score <- url %>% \n",
        "  read_html() %>% \n",
        "  html_elements(\"div.inline-block.ratings-imdb-rating\") %>% \n",
        "  html_text2() %>% \n",
        "  as.numeric()\n",
        "\n",
        "# rating, length and genre\n",
        "df1 <- url %>% \n",
        "  read_html() %>% \n",
        "  html_elements(\"p.text-muted\") %>% \n",
        "  html_text2()\n",
        "df1 <- df1[c(TRUE, FALSE)]"
      ],
      "metadata": {
        "id": "wzO8iXOeR25H"
      },
      "execution_count": null,
      "outputs": []
    },
    {
      "cell_type": "code",
      "source": [
        "# make data frame\n",
        "full_df <- data.frame(\n",
        "  movie_name,\n",
        "  score,\n",
        "  df1\n",
        ")\n",
        "\n",
        "full_df %>%\n",
        "  head()"
      ],
      "metadata": {
        "colab": {
          "base_uri": "https://localhost:8080/",
          "height": 286
        },
        "id": "wf7vXxZUR8Pr",
        "outputId": "90661d77-92e1-411d-f1b9-b6cb0b1b9390"
      },
      "execution_count": null,
      "outputs": [
        {
          "output_type": "display_data",
          "data": {
            "text/html": [
              "<table class=\"dataframe\">\n",
              "<caption>A data.frame: 6 × 3</caption>\n",
              "<thead>\n",
              "\t<tr><th></th><th scope=col>movie_name</th><th scope=col>score</th><th scope=col>df1</th></tr>\n",
              "\t<tr><th></th><th scope=col>&lt;chr&gt;</th><th scope=col>&lt;dbl&gt;</th><th scope=col>&lt;chr&gt;</th></tr>\n",
              "</thead>\n",
              "<tbody>\n",
              "\t<tr><th scope=row>1</th><td>1. Believe Me: The Abduction of Lisa McVey (2018 TV Movie)                       </td><td>7.2</td><td>87 min | Biography, Crime, Drama</td></tr>\n",
              "\t<tr><th scope=row>2</th><td>2. Cut, Color, Murder (2022 TV Movie)                                            </td><td>6.3</td><td>84 min | Crime, Mystery         </td></tr>\n",
              "\t<tr><th scope=row>3</th><td>3. The Chris Watts Story (2020 TV Movie)                                         </td><td>5.9</td><td>90 min | Crime, Drama           </td></tr>\n",
              "\t<tr><th scope=row>4</th><td>4. Escaping the NXIVM Cult: A Mother's Fight to Save Her Daughter (2019 TV Movie)</td><td>5.3</td><td>87 min | Crime, Drama           </td></tr>\n",
              "\t<tr><th scope=row>5</th><td>5. The Cases of Mystery Lane (2023 TV Movie)                                     </td><td>6.1</td><td>120 min | Comedy, Crime, Romance</td></tr>\n",
              "\t<tr><th scope=row>6</th><td>6. Jesse Stone: Innocents Lost (2011 TV Movie)                                   </td><td>7.0</td><td>91 min | Crime, Drama           </td></tr>\n",
              "</tbody>\n",
              "</table>\n"
            ],
            "text/markdown": "\nA data.frame: 6 × 3\n\n| <!--/--> | movie_name &lt;chr&gt; | score &lt;dbl&gt; | df1 &lt;chr&gt; |\n|---|---|---|---|\n| 1 | 1. Believe Me: The Abduction of Lisa McVey (2018 TV Movie)                        | 7.2 | 87 min | Biography, Crime, Drama |\n| 2 | 2. Cut, Color, Murder (2022 TV Movie)                                             | 6.3 | 84 min | Crime, Mystery          |\n| 3 | 3. The Chris Watts Story (2020 TV Movie)                                          | 5.9 | 90 min | Crime, Drama            |\n| 4 | 4. Escaping the NXIVM Cult: A Mother's Fight to Save Her Daughter (2019 TV Movie) | 5.3 | 87 min | Crime, Drama            |\n| 5 | 5. The Cases of Mystery Lane (2023 TV Movie)                                      | 6.1 | 120 min | Comedy, Crime, Romance |\n| 6 | 6. Jesse Stone: Innocents Lost (2011 TV Movie)                                    | 7.0 | 91 min | Crime, Drama            |\n\n",
            "text/latex": "A data.frame: 6 × 3\n\\begin{tabular}{r|lll}\n  & movie\\_name & score & df1\\\\\n  & <chr> & <dbl> & <chr>\\\\\n\\hline\n\t1 & 1. Believe Me: The Abduction of Lisa McVey (2018 TV Movie)                        & 7.2 & 87 min \\textbar{} Biography, Crime, Drama\\\\\n\t2 & 2. Cut, Color, Murder (2022 TV Movie)                                             & 6.3 & 84 min \\textbar{} Crime, Mystery         \\\\\n\t3 & 3. The Chris Watts Story (2020 TV Movie)                                          & 5.9 & 90 min \\textbar{} Crime, Drama           \\\\\n\t4 & 4. Escaping the NXIVM Cult: A Mother's Fight to Save Her Daughter (2019 TV Movie) & 5.3 & 87 min \\textbar{} Crime, Drama           \\\\\n\t5 & 5. The Cases of Mystery Lane (2023 TV Movie)                                      & 6.1 & 120 min \\textbar{} Comedy, Crime, Romance\\\\\n\t6 & 6. Jesse Stone: Innocents Lost (2011 TV Movie)                                    & 7.0 & 91 min \\textbar{} Crime, Drama           \\\\\n\\end{tabular}\n",
            "text/plain": [
              "  movie_name                                                                       \n",
              "1 1. Believe Me: The Abduction of Lisa McVey (2018 TV Movie)                       \n",
              "2 2. Cut, Color, Murder (2022 TV Movie)                                            \n",
              "3 3. The Chris Watts Story (2020 TV Movie)                                         \n",
              "4 4. Escaping the NXIVM Cult: A Mother's Fight to Save Her Daughter (2019 TV Movie)\n",
              "5 5. The Cases of Mystery Lane (2023 TV Movie)                                     \n",
              "6 6. Jesse Stone: Innocents Lost (2011 TV Movie)                                   \n",
              "  score df1                             \n",
              "1 7.2   87 min | Biography, Crime, Drama\n",
              "2 6.3   84 min | Crime, Mystery         \n",
              "3 5.9   90 min | Crime, Drama           \n",
              "4 5.3   87 min | Crime, Drama           \n",
              "5 6.1   120 min | Comedy, Crime, Romance\n",
              "6 7.0   91 min | Crime, Drama           "
            ]
          },
          "metadata": {}
        }
      ]
    },
    {
      "cell_type": "markdown",
      "source": [
        "## Clean Data"
      ],
      "metadata": {
        "id": "UKeku9_QSDuE"
      }
    },
    {
      "cell_type": "code",
      "source": [
        "# split column\n",
        "new_df <- full_df %>% \n",
        "  separate(df1, sep = \"\\\\| \", into = c(\"rating\", \"length\", \"genre\"), fill = \"left\")\n",
        "\n",
        "# replace na\n",
        "new_df$rating[is.na(new_df$rating)] <- \"Not Rated\""
      ],
      "metadata": {
        "id": "7l-rwHyLSByx"
      },
      "execution_count": null,
      "outputs": []
    },
    {
      "cell_type": "code",
      "source": [
        "#length\n",
        "new_df2 <- new_df %>% \n",
        "  separate(length, sep = \" \", into = \"length\", fill = \"left\")\n",
        "new_df2$length <- as.numeric(new_df2$length)"
      ],
      "metadata": {
        "colab": {
          "base_uri": "https://localhost:8080/"
        },
        "id": "xWvE6kcySHkP",
        "outputId": "7c1d35f5-19e6-4a84-ae89-4e8827b5ca42"
      },
      "execution_count": null,
      "outputs": [
        {
          "output_type": "stream",
          "name": "stderr",
          "text": [
            "Warning message:\n",
            "“\u001b[1m\u001b[22mExpected 1 pieces. Additional pieces discarded in 50 rows [1, 2, 3, 4, 5, 6, 7,\n",
            "8, 9, 10, 11, 12, 13, 14, 15, 16, 17, 18, 19, 20, ...].”\n"
          ]
        }
      ]
    },
    {
      "cell_type": "code",
      "source": [
        "# movie_name\n",
        "new_df3 <- new_df2 %>% \n",
        "  separate(movie_name, sep = \"[0-9]\\\\. \", into = c(\"no\", \"movie_name\"))\n",
        "\n",
        "new_df3$no <- c(1:50)\n",
        "imdb_full_df <- new_df3"
      ],
      "metadata": {
        "id": "CLAqIl4cSJjA"
      },
      "execution_count": null,
      "outputs": []
    },
    {
      "cell_type": "markdown",
      "source": [
        "## Full Data Frame"
      ],
      "metadata": {
        "id": "Iw3T3vDGSPJz"
      }
    },
    {
      "cell_type": "code",
      "source": [
        "View(imdb_full_df)"
      ],
      "metadata": {
        "colab": {
          "base_uri": "https://localhost:8080/",
          "height": 1000
        },
        "id": "Zz2XFeeMSMkt",
        "outputId": "33d30a6a-38a1-4122-8279-e82b76320ed7"
      },
      "execution_count": null,
      "outputs": [
        {
          "output_type": "display_data",
          "data": {
            "text/plain": [
              "   no\n",
              "1   1\n",
              "2   2\n",
              "3   3\n",
              "4   4\n",
              "5   5\n",
              "6   6\n",
              "7   7\n",
              "8   8\n",
              "9   9\n",
              "10 10\n",
              "11 11\n",
              "12 12\n",
              "13 13\n",
              "14 14\n",
              "15 15\n",
              "16 16\n",
              "17 17\n",
              "18 18\n",
              "19 19\n",
              "20 20\n",
              "21 21\n",
              "22 22\n",
              "23 23\n",
              "24 24\n",
              "25 25\n",
              "26 26\n",
              "27 27\n",
              "28 28\n",
              "29 29\n",
              "30 30\n",
              "31 31\n",
              "32 32\n",
              "33 33\n",
              "34 34\n",
              "35 35\n",
              "36 36\n",
              "37 37\n",
              "38 38\n",
              "39 39\n",
              "40 40\n",
              "41 41\n",
              "42 42\n",
              "43 43\n",
              "44 44\n",
              "45 45\n",
              "46 46\n",
              "47 47\n",
              "48 48\n",
              "49 49\n",
              "50 50\n",
              "   movie_name                                                                    \n",
              "1  Believe Me: The Abduction of Lisa McVey (2018 TV Movie)                       \n",
              "2  Cut, Color, Murder (2022 TV Movie)                                            \n",
              "3  The Chris Watts Story (2020 TV Movie)                                         \n",
              "4  Escaping the NXIVM Cult: A Mother's Fight to Save Her Daughter (2019 TV Movie)\n",
              "5  The Cases of Mystery Lane (2023 TV Movie)                                     \n",
              "6  Jesse Stone: Innocents Lost (2011 TV Movie)                                   \n",
              "7  12 Angry Men (1997 TV Movie)                                                  \n",
              "8  The Wizard of Lies (2017 TV Movie)                                            \n",
              "9  Psych 3: This Is Gus (2021 TV Movie)                                          \n",
              "10 Jesse Stone: Lost in Paradise (2015 TV Movie)                                 \n",
              "11 Nicky Deuce (2013 TV Movie)                                                   \n",
              "12 Stone Cold (2005 TV Movie)                                                    \n",
              "13 Jesse Stone: No Remorse (2010 TV Movie)                                       \n",
              "14 Jesse Stone: Thin Ice (2009 TV Movie)                                         \n",
              "15 Silent Hours (2021 TV Movie)                                                  \n",
              "16 An Inspector Calls (2015 TV Movie)                                            \n",
              "17 Ray Donovan: The Movie (2022 TV Movie)                                        \n",
              "18 The Assault (2014 TV Movie)                                                   \n",
              "19 Jesse Stone: Benefit of the Doubt (2012 TV Movie)                             \n",
              "20 Perry Mason: The Case of the Avenging Ace (1988 TV Movie)                     \n",
              "21 Murder on the Home Front (2013 TV Movie)                                      \n",
              "22 Psych: The Movie (2017 TV Movie)                                              \n",
              "23 The Craigslist Killer (2011 TV Movie)                                         \n",
              "24 No One Would Tell (1996 TV Movie)                                             \n",
              "25 Jesse Stone: Sea Change (2007 TV Movie)                                       \n",
              "26 Psych 2: Lassie Come Home (2020 TV Movie)                                     \n",
              "27 Cleveland Abduction (2015 TV Movie)                                           \n",
              "28 Treasure Island (1990 TV Movie)                                               \n",
              "29 Moving Target (1988 TV Movie)                                                 \n",
              "30 Jesse Stone: Night Passage (2006 TV Movie)                                    \n",
              "31 Gotti (1996 TV Movie)                                                         \n",
              "32 L.A. Takedown (1989 TV Movie)                                                 \n",
              "33 Jesse Stone: Death in Paradise (2006 TV Movie)                                \n",
              "34 There's Something Wrong with Aunt Diane (2011 TV Movie)                       \n",
              "35 Prescription: Murder (1968 TV Movie)                                          \n",
              "36 CSI: Immortality (2015 TV Movie)                                              \n",
              "37 I Can Make You Love Me (1993 TV Movie)                                        \n",
              "38 Burn Notice: The Fall of Sam Axe (2011 TV Movie)                              \n",
              "39 Broken Ties (2023 TV Movie)                                                   \n",
              "40 Perry Mason: The Case of the Scandalous Scoundrel (1987 TV Movie)             \n",
              "41 Citizen X (1995 TV Movie)                                                     \n",
              "42 Beverly Hills Cop (2013 TV Movie)                                             \n",
              "43 Buried Alive (1990 TV Movie)                                                  \n",
              "44 The Saint (2017 TV Movie)                                                     \n",
              "45 Made in Britain (1982 TV Movie)                                               \n",
              "46 A Cry for Help: The Tracey Thurman Story (1989 TV Movie)                      \n",
              "47 Banshee (2006 TV Movie)                                                       \n",
              "48 Sparkling Cyanide (2003 TV Movie)                                             \n",
              "49 Nikki & Nora: Sister Sleuths (2022 TV Movie)                                  \n",
              "50 Cocaine Godmother (2017 TV Movie)                                             \n",
              "   score rating    length genre                   \n",
              "1  7.2   Not Rated  87    Biography, Crime, Drama \n",
              "2  6.3   Not Rated  84    Crime, Mystery          \n",
              "3  5.9   Not Rated  90    Crime, Drama            \n",
              "4  5.3   Not Rated  87    Crime, Drama            \n",
              "5  6.1   Not Rated 120    Comedy, Crime, Romance  \n",
              "6  7.0   Not Rated  91    Crime, Drama            \n",
              "7  7.8   12        117    Crime, Drama            \n",
              "8  6.8   12        133    Biography, Crime, Drama \n",
              "9  7.6   Not Rated  96    Comedy, Crime, Mystery  \n",
              "10 7.2   Not Rated  86    Crime, Drama            \n",
              "11 5.5   6          68    Comedy, Crime, Family   \n",
              "12 7.1   12         87    Crime, Drama, Mystery   \n",
              "13 7.2   12         87    Crime, Drama            \n",
              "14 7.1   12         88    Crime, Drama, Mystery   \n",
              "15 5.2   18        156    Crime, Thriller         \n",
              "16 7.6   12         87    Crime, Drama, Mystery   \n",
              "17 6.8   Not Rated 100    Crime, Drama, Thriller  \n",
              "18 6.2   Not Rated  93    Crime, Drama, Mystery   \n",
              "19 7.0   Not Rated  90    Action, Crime, Drama    \n",
              "20 7.0   Not Rated  91    Crime, Drama            \n",
              "21 6.6   Not Rated  91    Crime, Mystery, Thriller\n",
              "22 7.3   Not Rated  88    Comedy, Crime, Mystery  \n",
              "23 5.1   12         87    Biography, Crime, Drama \n",
              "24 6.6   Not Rated  96    Biography, Crime, Drama \n",
              "25 7.1   12         88    Crime, Drama            \n",
              "26 7.3   Not Rated  89    Comedy, Crime, Mystery  \n",
              "27 6.6   16         88    Biography, Crime, Drama \n",
              "28 7.0   Not Rated 132    Action, Adventure, Crime\n",
              "29 5.7   Not Rated 100    Crime, Drama, Mystery   \n",
              "30 7.2   12         89    Crime, Drama            \n",
              "31 7.2   R         117    Biography, Crime, Drama \n",
              "32 6.0   Not Rated  97    Action, Crime, Drama    \n",
              "33 7.1   12         87    Crime, Drama            \n",
              "34 6.7   Not Rated 101    Documentary, Crime      \n",
              "35 7.9   Not Rated 100    Crime, Drama, Mystery   \n",
              "36 7.5   12         87    Crime, Drama, Mystery   \n",
              "37 6.4   Not Rated  92    Crime, Drama, Horror    \n",
              "38 7.1   Not Rated  90    Action, Comedy, Crime   \n",
              "39 5.6   Not Rated  88    Crime, Thriller         \n",
              "40 6.9   Not Rated 100    Crime, Drama, Mystery   \n",
              "41 7.5   16        105    Biography, Crime, Drama \n",
              "42 7.3   Not Rated  42    Comedy, Crime, Drama    \n",
              "43 6.5   Not Rated  93    Crime, Drama, Fantasy   \n",
              "44 4.9   Not Rated  91    Action, Adventure, Crime\n",
              "45 7.2   Not Rated  76    Crime, Drama            \n",
              "46 7.7   Not Rated  96    Biography, Crime, Drama \n",
              "47 5.6   R          95    Crime, Drama, Thriller  \n",
              "48 5.6   Not Rated  94    Crime, Drama, Mystery   \n",
              "49 6.6   Not Rated  84    Crime, Drama, Mystery   \n",
              "50 5.6   16        100    Biography, Crime, Drama "
            ],
            "text/html": [
              "<table class=\"dataframe\">\n",
              "<caption>A data.frame: 50 × 6</caption>\n",
              "<thead>\n",
              "\t<tr><th scope=col>no</th><th scope=col>movie_name</th><th scope=col>score</th><th scope=col>rating</th><th scope=col>length</th><th scope=col>genre</th></tr>\n",
              "\t<tr><th scope=col>&lt;int&gt;</th><th scope=col>&lt;chr&gt;</th><th scope=col>&lt;dbl&gt;</th><th scope=col>&lt;chr&gt;</th><th scope=col>&lt;dbl&gt;</th><th scope=col>&lt;chr&gt;</th></tr>\n",
              "</thead>\n",
              "<tbody>\n",
              "\t<tr><td> 1</td><td>Believe Me: The Abduction of Lisa McVey (2018 TV Movie)                       </td><td>7.2</td><td>Not Rated</td><td> 87</td><td>Biography, Crime, Drama </td></tr>\n",
              "\t<tr><td> 2</td><td>Cut, Color, Murder (2022 TV Movie)                                            </td><td>6.3</td><td>Not Rated</td><td> 84</td><td>Crime, Mystery          </td></tr>\n",
              "\t<tr><td> 3</td><td>The Chris Watts Story (2020 TV Movie)                                         </td><td>5.9</td><td>Not Rated</td><td> 90</td><td>Crime, Drama            </td></tr>\n",
              "\t<tr><td> 4</td><td>Escaping the NXIVM Cult: A Mother's Fight to Save Her Daughter (2019 TV Movie)</td><td>5.3</td><td>Not Rated</td><td> 87</td><td>Crime, Drama            </td></tr>\n",
              "\t<tr><td> 5</td><td>The Cases of Mystery Lane (2023 TV Movie)                                     </td><td>6.1</td><td>Not Rated</td><td>120</td><td>Comedy, Crime, Romance  </td></tr>\n",
              "\t<tr><td> 6</td><td>Jesse Stone: Innocents Lost (2011 TV Movie)                                   </td><td>7.0</td><td>Not Rated</td><td> 91</td><td>Crime, Drama            </td></tr>\n",
              "\t<tr><td> 7</td><td>12 Angry Men (1997 TV Movie)                                                  </td><td>7.8</td><td>12       </td><td>117</td><td>Crime, Drama            </td></tr>\n",
              "\t<tr><td> 8</td><td>The Wizard of Lies (2017 TV Movie)                                            </td><td>6.8</td><td>12       </td><td>133</td><td>Biography, Crime, Drama </td></tr>\n",
              "\t<tr><td> 9</td><td>Psych 3: This Is Gus (2021 TV Movie)                                          </td><td>7.6</td><td>Not Rated</td><td> 96</td><td>Comedy, Crime, Mystery  </td></tr>\n",
              "\t<tr><td>10</td><td>Jesse Stone: Lost in Paradise (2015 TV Movie)                                 </td><td>7.2</td><td>Not Rated</td><td> 86</td><td>Crime, Drama            </td></tr>\n",
              "\t<tr><td>11</td><td>Nicky Deuce (2013 TV Movie)                                                   </td><td>5.5</td><td>6        </td><td> 68</td><td>Comedy, Crime, Family   </td></tr>\n",
              "\t<tr><td>12</td><td>Stone Cold (2005 TV Movie)                                                    </td><td>7.1</td><td>12       </td><td> 87</td><td>Crime, Drama, Mystery   </td></tr>\n",
              "\t<tr><td>13</td><td>Jesse Stone: No Remorse (2010 TV Movie)                                       </td><td>7.2</td><td>12       </td><td> 87</td><td>Crime, Drama            </td></tr>\n",
              "\t<tr><td>14</td><td>Jesse Stone: Thin Ice (2009 TV Movie)                                         </td><td>7.1</td><td>12       </td><td> 88</td><td>Crime, Drama, Mystery   </td></tr>\n",
              "\t<tr><td>15</td><td>Silent Hours (2021 TV Movie)                                                  </td><td>5.2</td><td>18       </td><td>156</td><td>Crime, Thriller         </td></tr>\n",
              "\t<tr><td>16</td><td>An Inspector Calls (2015 TV Movie)                                            </td><td>7.6</td><td>12       </td><td> 87</td><td>Crime, Drama, Mystery   </td></tr>\n",
              "\t<tr><td>17</td><td>Ray Donovan: The Movie (2022 TV Movie)                                        </td><td>6.8</td><td>Not Rated</td><td>100</td><td>Crime, Drama, Thriller  </td></tr>\n",
              "\t<tr><td>18</td><td>The Assault (2014 TV Movie)                                                   </td><td>6.2</td><td>Not Rated</td><td> 93</td><td>Crime, Drama, Mystery   </td></tr>\n",
              "\t<tr><td>19</td><td>Jesse Stone: Benefit of the Doubt (2012 TV Movie)                             </td><td>7.0</td><td>Not Rated</td><td> 90</td><td>Action, Crime, Drama    </td></tr>\n",
              "\t<tr><td>20</td><td>Perry Mason: The Case of the Avenging Ace (1988 TV Movie)                     </td><td>7.0</td><td>Not Rated</td><td> 91</td><td>Crime, Drama            </td></tr>\n",
              "\t<tr><td>21</td><td>Murder on the Home Front (2013 TV Movie)                                      </td><td>6.6</td><td>Not Rated</td><td> 91</td><td>Crime, Mystery, Thriller</td></tr>\n",
              "\t<tr><td>22</td><td>Psych: The Movie (2017 TV Movie)                                              </td><td>7.3</td><td>Not Rated</td><td> 88</td><td>Comedy, Crime, Mystery  </td></tr>\n",
              "\t<tr><td>23</td><td>The Craigslist Killer (2011 TV Movie)                                         </td><td>5.1</td><td>12       </td><td> 87</td><td>Biography, Crime, Drama </td></tr>\n",
              "\t<tr><td>24</td><td>No One Would Tell (1996 TV Movie)                                             </td><td>6.6</td><td>Not Rated</td><td> 96</td><td>Biography, Crime, Drama </td></tr>\n",
              "\t<tr><td>25</td><td>Jesse Stone: Sea Change (2007 TV Movie)                                       </td><td>7.1</td><td>12       </td><td> 88</td><td>Crime, Drama            </td></tr>\n",
              "\t<tr><td>26</td><td>Psych 2: Lassie Come Home (2020 TV Movie)                                     </td><td>7.3</td><td>Not Rated</td><td> 89</td><td>Comedy, Crime, Mystery  </td></tr>\n",
              "\t<tr><td>27</td><td>Cleveland Abduction (2015 TV Movie)                                           </td><td>6.6</td><td>16       </td><td> 88</td><td>Biography, Crime, Drama </td></tr>\n",
              "\t<tr><td>28</td><td>Treasure Island (1990 TV Movie)                                               </td><td>7.0</td><td>Not Rated</td><td>132</td><td>Action, Adventure, Crime</td></tr>\n",
              "\t<tr><td>29</td><td>Moving Target (1988 TV Movie)                                                 </td><td>5.7</td><td>Not Rated</td><td>100</td><td>Crime, Drama, Mystery   </td></tr>\n",
              "\t<tr><td>30</td><td>Jesse Stone: Night Passage (2006 TV Movie)                                    </td><td>7.2</td><td>12       </td><td> 89</td><td>Crime, Drama            </td></tr>\n",
              "\t<tr><td>31</td><td>Gotti (1996 TV Movie)                                                         </td><td>7.2</td><td>R        </td><td>117</td><td>Biography, Crime, Drama </td></tr>\n",
              "\t<tr><td>32</td><td>L.A. Takedown (1989 TV Movie)                                                 </td><td>6.0</td><td>Not Rated</td><td> 97</td><td>Action, Crime, Drama    </td></tr>\n",
              "\t<tr><td>33</td><td>Jesse Stone: Death in Paradise (2006 TV Movie)                                </td><td>7.1</td><td>12       </td><td> 87</td><td>Crime, Drama            </td></tr>\n",
              "\t<tr><td>34</td><td>There's Something Wrong with Aunt Diane (2011 TV Movie)                       </td><td>6.7</td><td>Not Rated</td><td>101</td><td>Documentary, Crime      </td></tr>\n",
              "\t<tr><td>35</td><td>Prescription: Murder (1968 TV Movie)                                          </td><td>7.9</td><td>Not Rated</td><td>100</td><td>Crime, Drama, Mystery   </td></tr>\n",
              "\t<tr><td>36</td><td>CSI: Immortality (2015 TV Movie)                                              </td><td>7.5</td><td>12       </td><td> 87</td><td>Crime, Drama, Mystery   </td></tr>\n",
              "\t<tr><td>37</td><td>I Can Make You Love Me (1993 TV Movie)                                        </td><td>6.4</td><td>Not Rated</td><td> 92</td><td>Crime, Drama, Horror    </td></tr>\n",
              "\t<tr><td>38</td><td>Burn Notice: The Fall of Sam Axe (2011 TV Movie)                              </td><td>7.1</td><td>Not Rated</td><td> 90</td><td>Action, Comedy, Crime   </td></tr>\n",
              "\t<tr><td>39</td><td>Broken Ties (2023 TV Movie)                                                   </td><td>5.6</td><td>Not Rated</td><td> 88</td><td>Crime, Thriller         </td></tr>\n",
              "\t<tr><td>40</td><td>Perry Mason: The Case of the Scandalous Scoundrel (1987 TV Movie)             </td><td>6.9</td><td>Not Rated</td><td>100</td><td>Crime, Drama, Mystery   </td></tr>\n",
              "\t<tr><td>41</td><td>Citizen X (1995 TV Movie)                                                     </td><td>7.5</td><td>16       </td><td>105</td><td>Biography, Crime, Drama </td></tr>\n",
              "\t<tr><td>42</td><td>Beverly Hills Cop (2013 TV Movie)                                             </td><td>7.3</td><td>Not Rated</td><td> 42</td><td>Comedy, Crime, Drama    </td></tr>\n",
              "\t<tr><td>43</td><td>Buried Alive (1990 TV Movie)                                                  </td><td>6.5</td><td>Not Rated</td><td> 93</td><td>Crime, Drama, Fantasy   </td></tr>\n",
              "\t<tr><td>44</td><td>The Saint (2017 TV Movie)                                                     </td><td>4.9</td><td>Not Rated</td><td> 91</td><td>Action, Adventure, Crime</td></tr>\n",
              "\t<tr><td>45</td><td>Made in Britain (1982 TV Movie)                                               </td><td>7.2</td><td>Not Rated</td><td> 76</td><td>Crime, Drama            </td></tr>\n",
              "\t<tr><td>46</td><td>A Cry for Help: The Tracey Thurman Story (1989 TV Movie)                      </td><td>7.7</td><td>Not Rated</td><td> 96</td><td>Biography, Crime, Drama </td></tr>\n",
              "\t<tr><td>47</td><td>Banshee (2006 TV Movie)                                                       </td><td>5.6</td><td>R        </td><td> 95</td><td>Crime, Drama, Thriller  </td></tr>\n",
              "\t<tr><td>48</td><td>Sparkling Cyanide (2003 TV Movie)                                             </td><td>5.6</td><td>Not Rated</td><td> 94</td><td>Crime, Drama, Mystery   </td></tr>\n",
              "\t<tr><td>49</td><td><span style=white-space:pre-wrap>Nikki &amp; Nora: Sister Sleuths (2022 TV Movie)                                  </span></td><td>6.6</td><td>Not Rated</td><td> 84</td><td><span style=white-space:pre-wrap>Crime, Drama, Mystery   </span></td></tr>\n",
              "\t<tr><td>50</td><td>Cocaine Godmother (2017 TV Movie)                                             </td><td>5.6</td><td>16       </td><td>100</td><td>Biography, Crime, Drama </td></tr>\n",
              "</tbody>\n",
              "</table>\n"
            ],
            "text/markdown": "\nA data.frame: 50 × 6\n\n| no &lt;int&gt; | movie_name &lt;chr&gt; | score &lt;dbl&gt; | rating &lt;chr&gt; | length &lt;dbl&gt; | genre &lt;chr&gt; |\n|---|---|---|---|---|---|\n|  1 | Believe Me: The Abduction of Lisa McVey (2018 TV Movie)                        | 7.2 | Not Rated |  87 | Biography, Crime, Drama  |\n|  2 | Cut, Color, Murder (2022 TV Movie)                                             | 6.3 | Not Rated |  84 | Crime, Mystery           |\n|  3 | The Chris Watts Story (2020 TV Movie)                                          | 5.9 | Not Rated |  90 | Crime, Drama             |\n|  4 | Escaping the NXIVM Cult: A Mother's Fight to Save Her Daughter (2019 TV Movie) | 5.3 | Not Rated |  87 | Crime, Drama             |\n|  5 | The Cases of Mystery Lane (2023 TV Movie)                                      | 6.1 | Not Rated | 120 | Comedy, Crime, Romance   |\n|  6 | Jesse Stone: Innocents Lost (2011 TV Movie)                                    | 7.0 | Not Rated |  91 | Crime, Drama             |\n|  7 | 12 Angry Men (1997 TV Movie)                                                   | 7.8 | 12        | 117 | Crime, Drama             |\n|  8 | The Wizard of Lies (2017 TV Movie)                                             | 6.8 | 12        | 133 | Biography, Crime, Drama  |\n|  9 | Psych 3: This Is Gus (2021 TV Movie)                                           | 7.6 | Not Rated |  96 | Comedy, Crime, Mystery   |\n| 10 | Jesse Stone: Lost in Paradise (2015 TV Movie)                                  | 7.2 | Not Rated |  86 | Crime, Drama             |\n| 11 | Nicky Deuce (2013 TV Movie)                                                    | 5.5 | 6         |  68 | Comedy, Crime, Family    |\n| 12 | Stone Cold (2005 TV Movie)                                                     | 7.1 | 12        |  87 | Crime, Drama, Mystery    |\n| 13 | Jesse Stone: No Remorse (2010 TV Movie)                                        | 7.2 | 12        |  87 | Crime, Drama             |\n| 14 | Jesse Stone: Thin Ice (2009 TV Movie)                                          | 7.1 | 12        |  88 | Crime, Drama, Mystery    |\n| 15 | Silent Hours (2021 TV Movie)                                                   | 5.2 | 18        | 156 | Crime, Thriller          |\n| 16 | An Inspector Calls (2015 TV Movie)                                             | 7.6 | 12        |  87 | Crime, Drama, Mystery    |\n| 17 | Ray Donovan: The Movie (2022 TV Movie)                                         | 6.8 | Not Rated | 100 | Crime, Drama, Thriller   |\n| 18 | The Assault (2014 TV Movie)                                                    | 6.2 | Not Rated |  93 | Crime, Drama, Mystery    |\n| 19 | Jesse Stone: Benefit of the Doubt (2012 TV Movie)                              | 7.0 | Not Rated |  90 | Action, Crime, Drama     |\n| 20 | Perry Mason: The Case of the Avenging Ace (1988 TV Movie)                      | 7.0 | Not Rated |  91 | Crime, Drama             |\n| 21 | Murder on the Home Front (2013 TV Movie)                                       | 6.6 | Not Rated |  91 | Crime, Mystery, Thriller |\n| 22 | Psych: The Movie (2017 TV Movie)                                               | 7.3 | Not Rated |  88 | Comedy, Crime, Mystery   |\n| 23 | The Craigslist Killer (2011 TV Movie)                                          | 5.1 | 12        |  87 | Biography, Crime, Drama  |\n| 24 | No One Would Tell (1996 TV Movie)                                              | 6.6 | Not Rated |  96 | Biography, Crime, Drama  |\n| 25 | Jesse Stone: Sea Change (2007 TV Movie)                                        | 7.1 | 12        |  88 | Crime, Drama             |\n| 26 | Psych 2: Lassie Come Home (2020 TV Movie)                                      | 7.3 | Not Rated |  89 | Comedy, Crime, Mystery   |\n| 27 | Cleveland Abduction (2015 TV Movie)                                            | 6.6 | 16        |  88 | Biography, Crime, Drama  |\n| 28 | Treasure Island (1990 TV Movie)                                                | 7.0 | Not Rated | 132 | Action, Adventure, Crime |\n| 29 | Moving Target (1988 TV Movie)                                                  | 5.7 | Not Rated | 100 | Crime, Drama, Mystery    |\n| 30 | Jesse Stone: Night Passage (2006 TV Movie)                                     | 7.2 | 12        |  89 | Crime, Drama             |\n| 31 | Gotti (1996 TV Movie)                                                          | 7.2 | R         | 117 | Biography, Crime, Drama  |\n| 32 | L.A. Takedown (1989 TV Movie)                                                  | 6.0 | Not Rated |  97 | Action, Crime, Drama     |\n| 33 | Jesse Stone: Death in Paradise (2006 TV Movie)                                 | 7.1 | 12        |  87 | Crime, Drama             |\n| 34 | There's Something Wrong with Aunt Diane (2011 TV Movie)                        | 6.7 | Not Rated | 101 | Documentary, Crime       |\n| 35 | Prescription: Murder (1968 TV Movie)                                           | 7.9 | Not Rated | 100 | Crime, Drama, Mystery    |\n| 36 | CSI: Immortality (2015 TV Movie)                                               | 7.5 | 12        |  87 | Crime, Drama, Mystery    |\n| 37 | I Can Make You Love Me (1993 TV Movie)                                         | 6.4 | Not Rated |  92 | Crime, Drama, Horror     |\n| 38 | Burn Notice: The Fall of Sam Axe (2011 TV Movie)                               | 7.1 | Not Rated |  90 | Action, Comedy, Crime    |\n| 39 | Broken Ties (2023 TV Movie)                                                    | 5.6 | Not Rated |  88 | Crime, Thriller          |\n| 40 | Perry Mason: The Case of the Scandalous Scoundrel (1987 TV Movie)              | 6.9 | Not Rated | 100 | Crime, Drama, Mystery    |\n| 41 | Citizen X (1995 TV Movie)                                                      | 7.5 | 16        | 105 | Biography, Crime, Drama  |\n| 42 | Beverly Hills Cop (2013 TV Movie)                                              | 7.3 | Not Rated |  42 | Comedy, Crime, Drama     |\n| 43 | Buried Alive (1990 TV Movie)                                                   | 6.5 | Not Rated |  93 | Crime, Drama, Fantasy    |\n| 44 | The Saint (2017 TV Movie)                                                      | 4.9 | Not Rated |  91 | Action, Adventure, Crime |\n| 45 | Made in Britain (1982 TV Movie)                                                | 7.2 | Not Rated |  76 | Crime, Drama             |\n| 46 | A Cry for Help: The Tracey Thurman Story (1989 TV Movie)                       | 7.7 | Not Rated |  96 | Biography, Crime, Drama  |\n| 47 | Banshee (2006 TV Movie)                                                        | 5.6 | R         |  95 | Crime, Drama, Thriller   |\n| 48 | Sparkling Cyanide (2003 TV Movie)                                              | 5.6 | Not Rated |  94 | Crime, Drama, Mystery    |\n| 49 | Nikki &amp; Nora: Sister Sleuths (2022 TV Movie)                                   | 6.6 | Not Rated |  84 | Crime, Drama, Mystery    |\n| 50 | Cocaine Godmother (2017 TV Movie)                                              | 5.6 | 16        | 100 | Biography, Crime, Drama  |\n\n",
            "text/latex": "A data.frame: 50 × 6\n\\begin{tabular}{llllll}\n no & movie\\_name & score & rating & length & genre\\\\\n <int> & <chr> & <dbl> & <chr> & <dbl> & <chr>\\\\\n\\hline\n\t  1 & Believe Me: The Abduction of Lisa McVey (2018 TV Movie)                        & 7.2 & Not Rated &  87 & Biography, Crime, Drama \\\\\n\t  2 & Cut, Color, Murder (2022 TV Movie)                                             & 6.3 & Not Rated &  84 & Crime, Mystery          \\\\\n\t  3 & The Chris Watts Story (2020 TV Movie)                                          & 5.9 & Not Rated &  90 & Crime, Drama            \\\\\n\t  4 & Escaping the NXIVM Cult: A Mother's Fight to Save Her Daughter (2019 TV Movie) & 5.3 & Not Rated &  87 & Crime, Drama            \\\\\n\t  5 & The Cases of Mystery Lane (2023 TV Movie)                                      & 6.1 & Not Rated & 120 & Comedy, Crime, Romance  \\\\\n\t  6 & Jesse Stone: Innocents Lost (2011 TV Movie)                                    & 7.0 & Not Rated &  91 & Crime, Drama            \\\\\n\t  7 & 12 Angry Men (1997 TV Movie)                                                   & 7.8 & 12        & 117 & Crime, Drama            \\\\\n\t  8 & The Wizard of Lies (2017 TV Movie)                                             & 6.8 & 12        & 133 & Biography, Crime, Drama \\\\\n\t  9 & Psych 3: This Is Gus (2021 TV Movie)                                           & 7.6 & Not Rated &  96 & Comedy, Crime, Mystery  \\\\\n\t 10 & Jesse Stone: Lost in Paradise (2015 TV Movie)                                  & 7.2 & Not Rated &  86 & Crime, Drama            \\\\\n\t 11 & Nicky Deuce (2013 TV Movie)                                                    & 5.5 & 6         &  68 & Comedy, Crime, Family   \\\\\n\t 12 & Stone Cold (2005 TV Movie)                                                     & 7.1 & 12        &  87 & Crime, Drama, Mystery   \\\\\n\t 13 & Jesse Stone: No Remorse (2010 TV Movie)                                        & 7.2 & 12        &  87 & Crime, Drama            \\\\\n\t 14 & Jesse Stone: Thin Ice (2009 TV Movie)                                          & 7.1 & 12        &  88 & Crime, Drama, Mystery   \\\\\n\t 15 & Silent Hours (2021 TV Movie)                                                   & 5.2 & 18        & 156 & Crime, Thriller         \\\\\n\t 16 & An Inspector Calls (2015 TV Movie)                                             & 7.6 & 12        &  87 & Crime, Drama, Mystery   \\\\\n\t 17 & Ray Donovan: The Movie (2022 TV Movie)                                         & 6.8 & Not Rated & 100 & Crime, Drama, Thriller  \\\\\n\t 18 & The Assault (2014 TV Movie)                                                    & 6.2 & Not Rated &  93 & Crime, Drama, Mystery   \\\\\n\t 19 & Jesse Stone: Benefit of the Doubt (2012 TV Movie)                              & 7.0 & Not Rated &  90 & Action, Crime, Drama    \\\\\n\t 20 & Perry Mason: The Case of the Avenging Ace (1988 TV Movie)                      & 7.0 & Not Rated &  91 & Crime, Drama            \\\\\n\t 21 & Murder on the Home Front (2013 TV Movie)                                       & 6.6 & Not Rated &  91 & Crime, Mystery, Thriller\\\\\n\t 22 & Psych: The Movie (2017 TV Movie)                                               & 7.3 & Not Rated &  88 & Comedy, Crime, Mystery  \\\\\n\t 23 & The Craigslist Killer (2011 TV Movie)                                          & 5.1 & 12        &  87 & Biography, Crime, Drama \\\\\n\t 24 & No One Would Tell (1996 TV Movie)                                              & 6.6 & Not Rated &  96 & Biography, Crime, Drama \\\\\n\t 25 & Jesse Stone: Sea Change (2007 TV Movie)                                        & 7.1 & 12        &  88 & Crime, Drama            \\\\\n\t 26 & Psych 2: Lassie Come Home (2020 TV Movie)                                      & 7.3 & Not Rated &  89 & Comedy, Crime, Mystery  \\\\\n\t 27 & Cleveland Abduction (2015 TV Movie)                                            & 6.6 & 16        &  88 & Biography, Crime, Drama \\\\\n\t 28 & Treasure Island (1990 TV Movie)                                                & 7.0 & Not Rated & 132 & Action, Adventure, Crime\\\\\n\t 29 & Moving Target (1988 TV Movie)                                                  & 5.7 & Not Rated & 100 & Crime, Drama, Mystery   \\\\\n\t 30 & Jesse Stone: Night Passage (2006 TV Movie)                                     & 7.2 & 12        &  89 & Crime, Drama            \\\\\n\t 31 & Gotti (1996 TV Movie)                                                          & 7.2 & R         & 117 & Biography, Crime, Drama \\\\\n\t 32 & L.A. Takedown (1989 TV Movie)                                                  & 6.0 & Not Rated &  97 & Action, Crime, Drama    \\\\\n\t 33 & Jesse Stone: Death in Paradise (2006 TV Movie)                                 & 7.1 & 12        &  87 & Crime, Drama            \\\\\n\t 34 & There's Something Wrong with Aunt Diane (2011 TV Movie)                        & 6.7 & Not Rated & 101 & Documentary, Crime      \\\\\n\t 35 & Prescription: Murder (1968 TV Movie)                                           & 7.9 & Not Rated & 100 & Crime, Drama, Mystery   \\\\\n\t 36 & CSI: Immortality (2015 TV Movie)                                               & 7.5 & 12        &  87 & Crime, Drama, Mystery   \\\\\n\t 37 & I Can Make You Love Me (1993 TV Movie)                                         & 6.4 & Not Rated &  92 & Crime, Drama, Horror    \\\\\n\t 38 & Burn Notice: The Fall of Sam Axe (2011 TV Movie)                               & 7.1 & Not Rated &  90 & Action, Comedy, Crime   \\\\\n\t 39 & Broken Ties (2023 TV Movie)                                                    & 5.6 & Not Rated &  88 & Crime, Thriller         \\\\\n\t 40 & Perry Mason: The Case of the Scandalous Scoundrel (1987 TV Movie)              & 6.9 & Not Rated & 100 & Crime, Drama, Mystery   \\\\\n\t 41 & Citizen X (1995 TV Movie)                                                      & 7.5 & 16        & 105 & Biography, Crime, Drama \\\\\n\t 42 & Beverly Hills Cop (2013 TV Movie)                                              & 7.3 & Not Rated &  42 & Comedy, Crime, Drama    \\\\\n\t 43 & Buried Alive (1990 TV Movie)                                                   & 6.5 & Not Rated &  93 & Crime, Drama, Fantasy   \\\\\n\t 44 & The Saint (2017 TV Movie)                                                      & 4.9 & Not Rated &  91 & Action, Adventure, Crime\\\\\n\t 45 & Made in Britain (1982 TV Movie)                                                & 7.2 & Not Rated &  76 & Crime, Drama            \\\\\n\t 46 & A Cry for Help: The Tracey Thurman Story (1989 TV Movie)                       & 7.7 & Not Rated &  96 & Biography, Crime, Drama \\\\\n\t 47 & Banshee (2006 TV Movie)                                                        & 5.6 & R         &  95 & Crime, Drama, Thriller  \\\\\n\t 48 & Sparkling Cyanide (2003 TV Movie)                                              & 5.6 & Not Rated &  94 & Crime, Drama, Mystery   \\\\\n\t 49 & Nikki \\& Nora: Sister Sleuths (2022 TV Movie)                                   & 6.6 & Not Rated &  84 & Crime, Drama, Mystery   \\\\\n\t 50 & Cocaine Godmother (2017 TV Movie)                                              & 5.6 & 16        & 100 & Biography, Crime, Drama \\\\\n\\end{tabular}\n"
          },
          "metadata": {}
        }
      ]
    }
  ]
}